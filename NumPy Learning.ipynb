{
 "cells": [
  {
   "cell_type": "markdown",
   "metadata": {},
   "source": [
    "This notebook is intended for learning purposes only. I will use it to learn/ try NumPy (Numerical Python) package. \n"
   ]
  },
  {
   "cell_type": "code",
   "execution_count": 15,
   "metadata": {},
   "outputs": [],
   "source": [
    "# Importing the numpy package\n",
    "import numpy as np"
   ]
  },
  {
   "cell_type": "code",
   "execution_count": null,
   "metadata": {},
   "outputs": [],
   "source": []
  },
  {
   "cell_type": "markdown",
   "metadata": {},
   "source": [
    "Python is dynamically typed programming language"
   ]
  },
  {
   "cell_type": "code",
   "execution_count": 20,
   "metadata": {},
   "outputs": [],
   "source": [
    "result = 0\n",
    "for i in range(100):\n",
    "    result += i"
   ]
  },
  {
   "cell_type": "code",
   "execution_count": 21,
   "metadata": {},
   "outputs": [
    {
     "name": "stdout",
     "output_type": "stream",
     "text": [
      "[0, 1, 2, 3, 4, 5, 6, 7, 8, 9, 10, 11, 12, 13, 14, 15, 16, 17, 18, 19, 20, 21, 22, 23, 24, 25, 26, 27, 28, 29, 30, 31, 32, 33, 34, 35, 36, 37, 38, 39, 40, 41, 42, 43, 44, 45, 46, 47, 48, 49, 50, 51, 52, 53, 54, 55, 56, 57, 58, 59, 60, 61, 62, 63, 64, 65, 66, 67, 68, 69, 70, 71, 72, 73, 74, 75, 76, 77, 78, 79, 80, 81, 82, 83, 84, 85, 86, 87, 88, 89, 90, 91, 92, 93, 94, 95, 96, 97, 98, 99]\n"
     ]
    }
   ],
   "source": [
    "L = list(range(100))\n",
    "print(L)"
   ]
  },
  {
   "cell_type": "code",
   "execution_count": 22,
   "metadata": {},
   "outputs": [],
   "source": [
    "import array"
   ]
  },
  {
   "cell_type": "code",
   "execution_count": 23,
   "metadata": {
    "scrolled": true
   },
   "outputs": [
    {
     "name": "stdout",
     "output_type": "stream",
     "text": [
      "array('i', [0, 1, 2, 3, 4, 5, 6, 7, 8, 9, 10, 11, 12, 13, 14, 15, 16, 17, 18, 19, 20, 21, 22, 23, 24, 25, 26, 27, 28, 29, 30, 31, 32, 33, 34, 35, 36, 37, 38, 39, 40, 41, 42, 43, 44, 45, 46, 47, 48, 49, 50, 51, 52, 53, 54, 55, 56, 57, 58, 59, 60, 61, 62, 63, 64, 65, 66, 67, 68, 69, 70, 71, 72, 73, 74, 75, 76, 77, 78, 79, 80, 81, 82, 83, 84, 85, 86, 87, 88, 89, 90, 91, 92, 93, 94, 95, 96, 97, 98, 99])\n"
     ]
    }
   ],
   "source": [
    "A = array.array('i', L)\n",
    "print(A)"
   ]
  },
  {
   "cell_type": "markdown",
   "metadata": {},
   "source": [
    "### Creating Array from Python Lists\n",
    "\n",
    "we can use `np.array` to create arrays from python lists. <strong>Remember</strong>, NumPy are constrained to arrays that all contain the same type. To explicitly setup the type of array, one can use the `dtype` keyword."
   ]
  },
  {
   "cell_type": "code",
   "execution_count": 34,
   "metadata": {},
   "outputs": [
    {
     "name": "stdout",
     "output_type": "stream",
     "text": [
      "A1:  [ 1.  23.   4.2]\n",
      "A2:  [[2 3 4]\n",
      " [4 5 6]\n",
      " [6 7 8]]\n"
     ]
    }
   ],
   "source": [
    "# Creating an array\n",
    "A = np.array([2,1,3,4,5])\n",
    "\n",
    "# To explicitly setup the type of array, one can use the `dtype` keyword.\n",
    "A1 = np.array([1,23,4.2], dtype='float32')\n",
    "print('A1: ',  A1)\n",
    "\n",
    "# Unline python lists, NumPy arrays can be explicitly mutlidimensional.\n",
    "A2 = np.array([range(i, i + 3) for i in [2, 4, 6]])\n",
    "print('A2: ', A2)"
   ]
  },
  {
   "cell_type": "markdown",
   "metadata": {},
   "source": [
    "### Creating Arrays fron Scratch\n",
    "\n",
    "Using routines built into NumPy. `np.array()` `np.ones()` `np.zeros()` `np.full` `np.arange()`\n",
    "\n",
    "Create 3X2 floating-point array of ones. Notice how we pass a `tuple` to the NumPy `ones()` method.\n",
    "`ones_array = np.ones((3, 2), dtype = 'float')`"
   ]
  },
  {
   "cell_type": "code",
   "execution_count": 65,
   "metadata": {},
   "outputs": [
    {
     "name": "stdout",
     "output_type": "stream",
     "text": [
      "[0 0 0 0 0 0 0 0 0 0]\n",
      "[[1. 1.]\n",
      " [1. 1.]\n",
      " [1. 1.]]\n",
      "[[3.23 3.23 3.23 3.23 3.23]\n",
      " [3.23 3.23 3.23 3.23 3.23]\n",
      " [3.23 3.23 3.23 3.23 3.23]]\n",
      "[ 0  2  4  6  8 10 12 14 16 18]\n",
      "[0.   0.25 0.5  0.75 1.  ]\n",
      "random array of values between 0 and 1:  [[0.0632063  0.32300116 0.19654415]\n",
      " [0.22966723 0.53639549 0.41792491]\n",
      " [0.26224887 0.70622746 0.39866098]]\n",
      "normally distributed random values with mean = 0 and sd = 1:  [[ 1.13439738  0.20272306 -0.3108142 ]\n",
      " [-0.99537118 -0.77198401  0.60450722]\n",
      " [-1.01777316 -0.72886497 -0.64714294]]\n",
      "random int array:  [[8 3 4]\n",
      " [6 7 5]\n",
      " [2 0 7]]\n",
      "eye_array: \n",
      "[[1. 0. 0.]\n",
      " [0. 1. 0.]\n",
      " [0. 0. 1.]]\n"
     ]
    }
   ],
   "source": [
    "# Create a length-10 integer array filled with zeros\n",
    "zeros_array = np.zeros(10, dtype='int')\n",
    "print(zeros_array )\n",
    "\n",
    "# Create 3X2 floating-point array of ones. Notice how we pass a tuple to the NumPy ònes` method.\n",
    "ones_array = np.ones((3, 2), dtype = 'float')\n",
    "print(ones_array)\n",
    "\n",
    "# Create a 3X5 array filled with 3.23\n",
    "full_array = np.full((3, 5), 3.23)\n",
    "print(full_array)\n",
    "\n",
    "# Creating an array containing sequence starting at 0 ending at 20 steps by 2\n",
    "seq_array = np.arange(0, 20, 2)\n",
    "print(seq_array)\n",
    "\n",
    "# Create an array of five values evenly spaced between 0 and 1\n",
    "even_spaced_array = np.linspace(0, 1, 5)\n",
    "print(even_spaced_array)\n",
    "\n",
    "# Create 3X3 array of unformally distributed random values between 0 and 1\n",
    "rand_array = np.random.random((3,3))\n",
    "print('random array of values between 0 and 1: ', rand_array)\n",
    "\n",
    "# Create a 3X3 array of normally distributed random values with mean eqausl\n",
    "normal_array = np.random.normal(0, 1, (3, 3))\n",
    "print('normally distributed random values with mean = 0 and sd = 1: ', normal_array)\n",
    "\n",
    "# Create a 3X3 array of random integers in the interval [0, 10)\n",
    "random_int_array = np.random.randint(0, 10, (3, 3))\n",
    "print('random int array: ', random_int_array)\n",
    "\n",
    "# Create the 3X3 identity array \n",
    "eye_array = np.eye(3)\n",
    "print('eye_array: ')\n",
    "print(eye_array)"
   ]
  },
  {
   "cell_type": "markdown",
   "metadata": {},
   "source": [
    "### NumPy Standard Data Types\n",
    "\n",
    "NumPy arrays contains value of a single type, so it is important to have a detailed knowledge of those types and their limitations.\n"
   ]
  },
  {
   "cell_type": "markdown",
   "metadata": {},
   "source": [
    "### The Basics of NumPy Arrays\n",
    "\n",
    "Data manipulation in Python is synonymous with NumPy array manipulation. \n",
    "\n",
    "Array manipulations can be divided down to five categories:\n",
    "\n",
    "1. <strong>Attributes of arrays</strong>\n",
    "2. <strong>Indexing of arrays</strong>\n",
    "3. <strong>Slicing of arrays</strong>\n",
    "4. <strong>Reshaping of arrays</strong>\n",
    "5. <strong>Joining and splitting of arrays</strong>\n"
   ]
  },
  {
   "cell_type": "code",
   "execution_count": null,
   "metadata": {},
   "outputs": [],
   "source": []
  }
 ],
 "metadata": {
  "kernelspec": {
   "display_name": "Python 3",
   "language": "python",
   "name": "python3"
  },
  "language_info": {
   "codemirror_mode": {
    "name": "ipython",
    "version": 3
   },
   "file_extension": ".py",
   "mimetype": "text/x-python",
   "name": "python",
   "nbconvert_exporter": "python",
   "pygments_lexer": "ipython3",
   "version": "3.7.5"
  }
 },
 "nbformat": 4,
 "nbformat_minor": 2
}
